{
 "cells": [
  {
   "cell_type": "code",
   "execution_count": 2,
   "metadata": {
    "collapsed": true
   },
   "outputs": [],
   "source": [
    "import math\n",
    "import time\n",
    "\n",
    "def cache(func):\n",
    "    saved = {}\n",
    "    def wraper(*args):\n",
    "        if (func, args) in saved:\n",
    "            return saved[func, args]\n",
    "        result = func(*args)\n",
    "        saved[func, args] = result\n",
    "        return result\n",
    "    return wraper\n",
    "\n",
    "@cache\n",
    "def is_prime(n):\n",
    "    if n <= 1:\n",
    "        return False\n",
    "    if n == 2 or n == 3:\n",
    "        return True\n",
    "    if n%2 == 0:\n",
    "        return False\n",
    "    max_div = int(math.sqrt(n))\n",
    "    \n",
    "    for x in xrange(3, max_div+2, 2):\n",
    "        if n%x == 0:\n",
    "            return False\n",
    "    else:\n",
    "        return True\n",
    "\n",
    "def prime_seive(s):\n",
    "    \"\"\"returns all primes less than s\"\"\"\n",
    "    seive = [1]*(s+1)\n",
    "    seive[0] = seive[1] = 0\n",
    "    current_prime = 2\n",
    "    i = current_prime\n",
    "    while current_prime < s:\n",
    "        while i < s:\n",
    "            i += current_prime\n",
    "            try:\n",
    "                seive[i] = 0\n",
    "            except IndexError:\n",
    "                pass\n",
    "        current_prime += 1\n",
    "        try:\n",
    "            while seive[current_prime] == 0:\n",
    "                current_prime += 1\n",
    "        except IndexError:\n",
    "            break\n",
    "        i = current_prime\n",
    "    primes = []\n",
    "    for i in xrange(len(seive)):\n",
    "        if seive[i] == 1:\n",
    "            primes.append(i)\n",
    "    return primes\n"
   ]
  },
  {
   "cell_type": "markdown",
   "metadata": {},
   "source": [
    "#Problem 51\n",
    "By replacing the 1st digit of the 2-digit number *3, it turns out that six of the nine possible values: 13, 23, 43, 53, 73, and 83, are all prime.\n",
    "\n",
    "By replacing the 3rd and 4th digits of 56**3 with the same digit, this 5-digit number is the first example having seven primes among the ten generated numbers, yielding the family: 56003, 56113, 56333, 56443, 56663, 56773, and 56993. Consequently 56003, being the first member of this family, is the smallest prime with this property.\n",
    "\n",
    "Find the smallest prime which, by replacing part of the number (not necessarily adjacent digits) with the same digit, is part of an eight prime value family."
   ]
  },
  {
   "cell_type": "code",
   "execution_count": 34,
   "metadata": {
    "collapsed": false
   },
   "outputs": [
    {
     "name": "stdout",
     "output_type": "stream",
     "text": [
      "found!:  [13, 23, 43, 53, 73, 83]\n",
      "0.00696206092834\n"
     ]
    }
   ],
   "source": [
    "import itertools\n",
    " \n",
    "\n",
    "def family_search(primes, target_family_size):\n",
    "    primes_set = set(primes)\n",
    "    for prime in primes:\n",
    "        prime_str = str(prime)\n",
    "        for mask in set(prime_str):\n",
    "            canidates = (int(prime_str.replace(mask, str(n))) for n in xrange(10))\n",
    "            family = {n for n in canidates if n in primes_set and n >= prime}\n",
    "            if len(family) == target_family_size:\n",
    "                return family\n",
    "        \n",
    "\n",
    "def family_search_2(primes, target_family_size):\n",
    "    primes_set = set(primes)\n",
    "    for repeats in range(len(str(primes[-1]))-1):\n",
    "        for prime in primes:\n",
    "            c = Counter(str(prime))\n",
    "            for repeated_number in (str(x) for x in xrange(10)):\n",
    "                if c[repeated_number] == repeats:\n",
    "                    family = []\n",
    "                    for x in (str(prime).replace(repeated_number, str(i)) for i in xrange(10)):\n",
    "                        if x.startswith('0'):\n",
    "                            continue\n",
    "                        if int(x) in primes_set:\n",
    "                            family.append(x)\n",
    "                    if len(family) == target_family_size:\n",
    "                        return family\n",
    "\n",
    "primes = prime_seive(1000000)\n",
    "time_start = time.time()\n",
    "print 'found!: ', sorted(family_search(primes, 6))\n",
    "print time.time()-time_start\n",
    "        "
   ]
  },
  {
   "cell_type": "code",
   "execution_count": null,
   "metadata": {
    "collapsed": true
   },
   "outputs": [],
   "source": []
  }
 ],
 "metadata": {
  "kernelspec": {
   "display_name": "Python 2",
   "language": "python",
   "name": "python2"
  },
  "language_info": {
   "codemirror_mode": {
    "name": "ipython",
    "version": 2
   },
   "file_extension": ".py",
   "mimetype": "text/x-python",
   "name": "python",
   "nbconvert_exporter": "python",
   "pygments_lexer": "ipython2",
   "version": "2.7.9"
  }
 },
 "nbformat": 4,
 "nbformat_minor": 0
}
