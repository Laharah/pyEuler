{
 "cells": [
  {
   "cell_type": "code",
   "execution_count": 1,
   "metadata": {
    "collapsed": false
   },
   "outputs": [],
   "source": [
    "import math\n",
    "import time\n",
    "\n",
    "def cache(func):\n",
    "    saved = {}\n",
    "    def wraper(*args):\n",
    "        if (func, args) in saved:\n",
    "            return saved[func, args]\n",
    "        result = func(*args)\n",
    "        saved[func, args] = result\n",
    "        return result\n",
    "    return wraper\n",
    "\n",
    "@cache\n",
    "def is_prime(n):\n",
    "    if n <= 1:\n",
    "        return False\n",
    "    if n == 2 or n == 3:\n",
    "        return True\n",
    "    if n%2 == 0:\n",
    "        return False\n",
    "    max_div = int(math.sqrt(n))\n",
    "    \n",
    "    for x in xrange(3, max_div+2, 2):\n",
    "        if n%x == 0:\n",
    "            return False\n",
    "    else:\n",
    "        return True\n",
    "\n",
    "def prime_seive(s):\n",
    "    \"\"\"returns all primes less than s\"\"\"\n",
    "    seive = [1]*(s+1)\n",
    "    seive[0] = seive[1] = 0\n",
    "    current_prime = 2\n",
    "    i = current_prime\n",
    "    while current_prime < s:\n",
    "        while i < s:\n",
    "            i += current_prime\n",
    "            try:\n",
    "                seive[i] = 0\n",
    "            except IndexError:\n",
    "                pass\n",
    "        current_prime += 1\n",
    "        try:\n",
    "            while seive[current_prime] == 0:\n",
    "                current_prime += 1\n",
    "        except IndexError:\n",
    "            break\n",
    "        i = current_prime\n",
    "    primes = []\n",
    "    for i in xrange(len(seive)):\n",
    "        if seive[i] == 1:\n",
    "            primes.append(i)\n",
    "    return primes\n"
   ]
  },
  {
   "cell_type": "markdown",
   "metadata": {},
   "source": [
    "#Problem 51\n",
    "By replacing the 1st digit of the 2-digit number *3, it turns out that six of the nine possible values: 13, 23, 43, 53, 73, and 83, are all prime.\n",
    "\n",
    "By replacing the 3rd and 4th digits of 56**3 with the same digit, this 5-digit number is the first example having seven primes among the ten generated numbers, yielding the family: 56003, 56113, 56333, 56443, 56663, 56773, and 56993. Consequently 56003, being the first member of this family, is the smallest prime with this property.\n",
    "\n",
    "Find the smallest prime which, by replacing part of the number (not necessarily adjacent digits) with the same digit, is part of an eight prime value family."
   ]
  },
  {
   "cell_type": "code",
   "execution_count": 18,
   "metadata": {
    "collapsed": false
   },
   "outputs": [
    {
     "ename": "NameError",
     "evalue": "name 'prime_seive' is not defined",
     "output_type": "error",
     "traceback": [
      "\u001b[0;31m---------------------------------------------------------------------------\u001b[0m",
      "\u001b[0;31mNameError\u001b[0m                                 Traceback (most recent call last)",
      "\u001b[0;32m<ipython-input-18-610ef1b1e3df>\u001b[0m in \u001b[0;36m<module>\u001b[0;34m()\u001b[0m\n\u001b[1;32m     29\u001b[0m                         \u001b[0;32mreturn\u001b[0m \u001b[0mfamily\u001b[0m\u001b[0;34m\u001b[0m\u001b[0m\n\u001b[1;32m     30\u001b[0m \u001b[0;34m\u001b[0m\u001b[0m\n\u001b[0;32m---> 31\u001b[0;31m \u001b[0mprimes\u001b[0m \u001b[0;34m=\u001b[0m \u001b[0mprime_seive\u001b[0m\u001b[0;34m(\u001b[0m\u001b[0;36m1000000\u001b[0m\u001b[0;34m)\u001b[0m\u001b[0;34m\u001b[0m\u001b[0m\n\u001b[0m\u001b[1;32m     32\u001b[0m \u001b[0mtime_start\u001b[0m \u001b[0;34m=\u001b[0m \u001b[0mtime\u001b[0m\u001b[0;34m.\u001b[0m\u001b[0mtime\u001b[0m\u001b[0;34m(\u001b[0m\u001b[0;34m)\u001b[0m\u001b[0;34m\u001b[0m\u001b[0m\n\u001b[1;32m     33\u001b[0m \u001b[0;32mprint\u001b[0m \u001b[0;34m'found!: '\u001b[0m\u001b[0;34m,\u001b[0m \u001b[0msorted\u001b[0m\u001b[0;34m(\u001b[0m\u001b[0mfamily_search\u001b[0m\u001b[0;34m(\u001b[0m\u001b[0mprimes\u001b[0m\u001b[0;34m,\u001b[0m \u001b[0;36m6\u001b[0m\u001b[0;34m)\u001b[0m\u001b[0;34m)\u001b[0m\u001b[0;34m\u001b[0m\u001b[0m\n",
      "\u001b[0;31mNameError\u001b[0m: name 'prime_seive' is not defined"
     ]
    }
   ],
   "source": [
    "import itertools\n",
    " \n",
    "\n",
    "def family_search(primes, target_family_size):\n",
    "    primes_set = set(primes)\n",
    "    for prime in primes:\n",
    "        prime_str = str(prime)\n",
    "        for mask in set(prime_str):\n",
    "            canidates = (int(prime_str.replace(mask, str(n))) for n in xrange(10))\n",
    "            family = {n for n in canidates if n in primes_set and n >= prime}\n",
    "            if len(family) == target_family_size:\n",
    "                return family\n",
    "        \n",
    "\n",
    "def family_search_2(primes, target_family_size):\n",
    "    primes_set = set(primes)\n",
    "    for repeats in range(len(str(primes[-1]))-1):\n",
    "        for prime in primes:\n",
    "            c = Counter(str(prime))\n",
    "            for repeated_number in (str(x) for x in xrange(10)):\n",
    "                if c[repeated_number] == repeats:\n",
    "                    family = []\n",
    "                    for x in (str(prime).replace(repeated_number, str(i)) for i in xrange(10)):\n",
    "                        if x.startswith('0'):\n",
    "                            continue\n",
    "                        if int(x) in primes_set:\n",
    "                            family.append(x)\n",
    "                    if len(family) == target_family_size:\n",
    "                        return family\n",
    "\n",
    "primes = prime_seive(1000000)\n",
    "time_start = time.time()\n",
    "print 'found!: ', sorted(family_search(primes, 6))\n",
    "print time.time()-time_start\n",
    "        "
   ]
  },
  {
   "cell_type": "markdown",
   "metadata": {
    "collapsed": true
   },
   "source": [
    "#Problem 52\n",
    "It can be seen that the number, 125874, and its double, 251748, contain exactly the same digits, but in a different order.\n",
    "\n",
    "Find the smallest positive integer, x, such that 2x, 3x, 4x, 5x, and 6x, contain the same digits."
   ]
  },
  {
   "cell_type": "code",
   "execution_count": 32,
   "metadata": {
    "collapsed": false
   },
   "outputs": [
    {
     "name": "stdout",
     "output_type": "stream",
     "text": [
      "142857\n",
      "1.10256814957\n"
     ]
    }
   ],
   "source": [
    "import itertools\n",
    "import time\n",
    "\n",
    "def digit_check(a,b):\n",
    "    return sorted(str(a)) == sorted(str(b))\n",
    "\n",
    "time_start = time.time()\n",
    "i = 1\n",
    "while True:\n",
    "    if all(itertools.imap(digit_check, (a*i for a in xrange(2, 7)), itertools.repeat(i))):\n",
    "        break\n",
    "    i += 1\n",
    "print i\n",
    "print time.time()-time_start"
   ]
  },
  {
   "cell_type": "markdown",
   "metadata": {},
   "source": [
    "#Problem 53\n",
    "There are exactly ten ways of selecting three from five, 12345:\n",
    "\n",
    "123, 124, 125, 134, 135, 145, 234, 235, 245, and 345\n",
    "\n",
    "In combinatorics, we use the notation, 5C3 = 10.\n",
    "\n",
    "In general,\n",
    "\n",
    "nCr =\tn!/r!(n−r)!\n",
    ",where r ≤ n, n! = n×(n−1)×...×3×2×1, and 0! = 1.\n",
    "It is not until n = 23, that a value exceeds one-million: 23C10 = 1144066.\n",
    "\n",
    "How many, not necessarily distinct, values of  nCr, for 1 ≤ n ≤ 100, are greater than one-million?"
   ]
  },
  {
   "cell_type": "code",
   "execution_count": 2,
   "metadata": {
    "collapsed": false
   },
   "outputs": [
    {
     "name": "stdout",
     "output_type": "stream",
     "text": [
      "0.0735878944397\n",
      "4075\n"
     ]
    }
   ],
   "source": [
    "from math import factorial\n",
    "\n",
    "def ncr(n, r):\n",
    "    return factorial(n)/(factorial(r)*factorial(n-r))\n",
    "\n",
    "time_start = time.time()\n",
    "total = 0\n",
    "for n in xrange(23, 101):\n",
    "    for r in xrange(n+1):\n",
    "        if ncr(n,r)> 1000000:\n",
    "            total += 1\n",
    "print time.time()-time_start\n",
    "print total\n"
   ]
  },
  {
   "cell_type": "markdown",
   "metadata": {},
   "source": [
    "#Problem 53\n",
    "find the winner of a bunch of poker hands"
   ]
  },
  {
   "cell_type": "code",
   "execution_count": 79,
   "metadata": {
    "collapsed": false
   },
   "outputs": [
    {
     "name": "stdout",
     "output_type": "stream",
     "text": [
      "376\n"
     ]
    }
   ],
   "source": [
    "from functools import total_ordering\n",
    "from collections import Counter\n",
    "with open('p054_poker.txt', 'ru') as f:\n",
    "    rounds = f.readlines()\n",
    "\n",
    "def get_rank(h):\n",
    "    HAND_RANKS = [\n",
    "        'HC',\n",
    "        '1P',\n",
    "        '2P',\n",
    "        '3K',\n",
    "        'S',\n",
    "        'F',\n",
    "        'FH',\n",
    "        '4K',\n",
    "        'SF'\n",
    "    ]\n",
    "    return HAND_RANKS.index(h.upper())\n",
    "        \n",
    "@total_ordering\n",
    "class Card(object):\n",
    "    def __init__(self, s):\n",
    "        try:\n",
    "            self.value = int(s[0])\n",
    "        except ValueError:\n",
    "            face_values = {\n",
    "                't': 10,\n",
    "                'j': 11,\n",
    "                'q': 12,\n",
    "                'k': 13,\n",
    "                'a': 14\n",
    "                }\n",
    "            self.value = face_values[s[0]]\n",
    "        self.suit = s[1]\n",
    "        \n",
    "    def __eq__(self, other):\n",
    "        return self.value == other\n",
    "    def __lt__(self, other):\n",
    "        return self.value < other\n",
    "\n",
    "class Hand(object):\n",
    "    def __init__(self, cards):\n",
    "        self.cards = sorted([Card(c) for c in cards])\n",
    "        self.rank = None\n",
    "        self.rank_lead = None\n",
    "        self.high_cards = []\n",
    "        self.second_pair = None\n",
    "        self.rank_hand()\n",
    "    \n",
    "    def rank_hand(self):\n",
    "        flush = False\n",
    "        straight = False\n",
    "        if all(card.suit == self.cards[0].suit for card in self.cards):\n",
    "            flush = True\n",
    "        if self.cards == range(self.cards[0].value, self.cards[-1].value+1):\n",
    "            straight = True\n",
    "        if straight and flush:\n",
    "            self.rank = get_rank('SF')\n",
    "            self.rank_lead = self.cards[-1]\n",
    "            return\n",
    "        elif flush:\n",
    "            self.rank = get_rank('f')\n",
    "            self.rank_lead = self.cards[-1]\n",
    "            return\n",
    "        elif straight:\n",
    "            self.rank = get_rank('s')\n",
    "            self.rank_lead = self.cards[-1]\n",
    "        else:\n",
    "            self.populate_pairs()\n",
    "    \n",
    "    def populate_pairs(self):\n",
    "        hand_set = {c.value for c in self.cards}\n",
    "        if len(hand_set) == 5:\n",
    "            self.rank = get_rank('HC')\n",
    "            self.rank_lead = self.cards[-1]\n",
    "            self.high_cards = sorted(self.cards[:-1], reverse=True)\n",
    "            return\n",
    "        counter = Counter(c.value for c in self.cards)\n",
    "        for card, count in counter.items():\n",
    "            if count == 4:\n",
    "                self.rank = get_rank('4K')\n",
    "                self.rank_lead = card\n",
    "                self.high_cards = [c for c in self.cards if c != card]\n",
    "                return\n",
    "            if count == 2 and len(hand_set) == 4:\n",
    "                self.rank = get_rank('1P')\n",
    "                self.rank_lead = card\n",
    "                self.high_cards = sorted([c for c in self.cards if c != card], reverse=True)\n",
    "                return\n",
    "            if count == 3 and len(hand_set) == 3:\n",
    "                self.rank = get_rank('3k')\n",
    "                self.rank_lead = card\n",
    "                self.high_cards = sorted([c for c in self.cards if c != card], reverse=True)\n",
    "                return\n",
    "            if count == 3 and len(hand_set) == 2:\n",
    "                self.rank = get_rank(\"FH\")\n",
    "                self.rank_lead = card\n",
    "                self.high_cards = [c for c in self.cards if c != card]\n",
    "                return\n",
    "        #must be 2p\n",
    "        self.rank = get_rank('2p')\n",
    "        self.high_cards = [card for card in counter if counter[card] == 1]\n",
    "        self.rank_lead = [card for card in self.cards if card != self.high_cards[0]][-1]\n",
    "        self.second_pair = [card for card in self.cards if card != self.high_cards[0]][0]\n",
    "        return\n",
    "\n",
    "def winner(h1, h2):\n",
    "    if h1.rank > h2.rank:\n",
    "        return h1\n",
    "    if h1.rank < h2.rank:\n",
    "        return h2\n",
    "    # tie\n",
    "    if h1.rank == get_rank('2p'):\n",
    "        #special handeling of 2 pair\n",
    "        if h1.rank_lead == h2.rank_lead:\n",
    "            if h1.second_pair == h2.second_pair:\n",
    "                print h1.high_cards\n",
    "                return max([h1,h2], key=lambda hand: hand.high_cards[0])\n",
    "            else:\n",
    "                return max([h1,h2], key=lambda hand: hand.second_pair)\n",
    "        else:\n",
    "            return max([h1,h2], key=lambda hand: hand.rank_lead)\n",
    "\n",
    "    if h1.rank_lead == h2.rank_lead:\n",
    "        for hc1, hc2 in zip(h1.high_cards, h2.high_cards):\n",
    "            if hc1 == hc2:\n",
    "                continue\n",
    "            else:\n",
    "                if hc1 > hc2:\n",
    "                    return h1\n",
    "                else:\n",
    "                    return h2\n",
    "\n",
    "    return max([h1,h2], key=lambda hand: hand.rank_lead)\n",
    "\n",
    "p1_wins = 0\n",
    "for round in rounds:\n",
    "    p1 = Hand(round.strip().lower().split()[:5])\n",
    "    p2 = Hand(round.strip().lower().split()[5:])\n",
    "    \n",
    "    if winner(p1, p2) is p1:\n",
    "        p1_wins +=1\n",
    "print p1_wins"
   ]
  },
  {
   "cell_type": "markdown",
   "metadata": {},
   "source": [
    "#Problem 55\n",
    "If we take 47, reverse and add, 47 + 74 = 121, which is palindromic.\n",
    "\n",
    "Not all numbers produce palindromes so quickly. For example,\n",
    "\n",
    "349 + 943 = 1292,  \n",
    "1292 + 2921 = 4213  \n",
    "4213 + 3124 = 7337  \n",
    "\n",
    "That is, 349 took three iterations to arrive at a palindrome.\n",
    "\n",
    "Although no one has proved it yet, it is thought that some numbers, like 196, never produce a palindrome. A number that never forms a palindrome through the reverse and add process is called a Lychrel number. Due to the theoretical nature of these numbers, and for the purpose of this problem, we shall assume that a number is Lychrel until proven otherwise. In addition you are given that for every number below ten-thousand, it will either (i) become a palindrome in less than fifty iterations, or, (ii) no one, with all the computing power that exists, has managed so far to map it to a palindrome. In fact, 10677 is the first number to be shown to require over fifty iterations before producing a palindrome: 4668731596684224866951378664 (53 iterations, 28-digits).\n",
    "\n",
    "Surprisingly, there are palindromic numbers that are themselves Lychrel numbers; the first example is 4994.\n",
    "\n",
    "How many Lychrel numbers are there below ten-thousand?\n",
    "\n",
    "NOTE: Wording was modified slightly on 24 April 2007 to emphasise the theoretical nature of Lychrel numbers."
   ]
  },
  {
   "cell_type": "code",
   "execution_count": 111,
   "metadata": {
    "collapsed": false
   },
   "outputs": [
    {
     "name": "stdout",
     "output_type": "stream",
     "text": [
      "0.178150177002\n",
      "249\n"
     ]
    }
   ],
   "source": [
    "def lychrel_check(n):\n",
    "    itterations = 0\n",
    "    while itterations < 50:\n",
    "        itterations += 1\n",
    "        reversed_n = int(str(n)[::-1]) #extended slice syntax for step size\n",
    "        n += reversed_n\n",
    "        str_n = str(n)\n",
    "        if str_n == str_n[::-1]:\n",
    "            return False\n",
    "    return True\n",
    "            \n",
    "total = 0\n",
    "s_time = time.time()\n",
    "for x in xrange(10000):\n",
    "    if lychrel_check(x):\n",
    "        total += 1\n",
    "print time.time()-s_time\n",
    "print total"
   ]
  },
  {
   "cell_type": "markdown",
   "metadata": {},
   "source": [
    "#Problem 56\n",
    "A googol (10^100) is a massive number: one followed by one-hundred zeros; 100^100 is almost unimaginably large: one followed by two-hundred zeros. Despite their size, the sum of the digits in each number is only 1.\n",
    "\n",
    "Considering natural numbers of the form, a^b, where a, b < 100, what is the maximum digital sum?"
   ]
  },
  {
   "cell_type": "code",
   "execution_count": 116,
   "metadata": {
    "collapsed": false
   },
   "outputs": [
    {
     "name": "stdout",
     "output_type": "stream",
     "text": [
      "0.0232720375061\n",
      "972\n"
     ]
    }
   ],
   "source": [
    "def sum_digits(n):\n",
    "    r = 0\n",
    "    while n:\n",
    "        r, n = r + n % 10, n / 10\n",
    "    return r\n",
    "s_time = time.time()\n",
    "maximum_digital_sum = 0\n",
    "for a in xrange(90, 100):\n",
    "    for b in xrange(90, 100):\n",
    "        digital_sum = sum_digits(a**b)\n",
    "        if digital_sum > maximum_digital_sum:\n",
    "            maximum_digital_sum = digital_sum\n",
    "print time.time() - s_time\n",
    "print maximum_digital_sum\n"
   ]
  },
  {
   "cell_type": "markdown",
   "metadata": {},
   "source": [
    "#Problem 57\n",
    "It is possible to show that the square root of two can be expressed as an infinite continued fraction.\n",
    "\n",
    "√ 2 = 1 + 1/(2 + 1/(2 + 1/(2 + ... ))) = 1.414213...  \n",
    "\n",
    "By expanding this for the first four iterations, we get:\n",
    "\n",
    "1 + 1/2 = 3/2 = 1.5  \n",
    "1 + 1/(2 + 1/2) = 7/5 = 1.4  \n",
    "1 + 1/(2 + 1/(2 + 1/2)) = 17/12 = 1.41666...  \n",
    "1 + 1/(2 + 1/(2 + 1/(2 + 1/2))) = 41/29 = 1.41379...  \n",
    "\n",
    "The next three expansions are 99/70, 239/169, and 577/408, but the eighth expansion, 1393/985, is the first example where the number of digits in the numerator exceeds the number of digits in the denominator.\n",
    "\n",
    "In the first one-thousand expansions, how many fractions contain a numerator with more digits than denominator?"
   ]
  },
  {
   "cell_type": "code",
   "execution_count": 134,
   "metadata": {
    "collapsed": false
   },
   "outputs": [
    {
     "name": "stdout",
     "output_type": "stream",
     "text": [
      "153\n"
     ]
    }
   ],
   "source": [
    "from fractions import Fraction\n",
    "total = 0\n",
    "a = Fraction(1,2)\n",
    "for _ in xrange(1000):\n",
    "    a = Fraction(1, a+2)\n",
    "    if len(str((1+a).numerator)) > len(str((1+a).denominator)):\n",
    "        total +=1 \n",
    "print total"
   ]
  },
  {
   "cell_type": "markdown",
   "metadata": {},
   "source": [
    "#Problem 58\n",
    "Starting with 1 and spiralling anticlockwise in the following way, a square spiral with side length 7 is formed.\n",
    "\n",
    "37 36 35 34 33 32 31  \n",
    "38 17 16 15 14 13 30  \n",
    "39 18  5  4  3 12 29  \n",
    "40 19  6  1  2 11 28  \n",
    "41 20  7  8  9 10 27  \n",
    "42 21 22 23 24 25 26  \n",
    "43 44 45 46 47 48 49  \n",
    "\n",
    "It is interesting to note that the odd squares lie along the bottom right diagonal, but what is more interesting is that 8 out of the 13 numbers lying along both diagonals are prime; that is, a ratio of 8/13 ≈ 62%.\n",
    "\n",
    "If one complete new layer is wrapped around the spiral above, a square spiral with side length 9 will be formed. If this process is continued, what is the side length of the square spiral for which the ratio of primes along both diagonals first falls below 10%?"
   ]
  },
  {
   "cell_type": "code",
   "execution_count": 38,
   "metadata": {
    "collapsed": false
   },
   "outputs": [
    {
     "name": "stdout",
     "output_type": "stream",
     "text": [
      "26241 0.0999980945485\n"
     ]
    }
   ],
   "source": [
    "def sum_diag():\n",
    "    diagonals = []\n",
    "    primes = 0\n",
    "    non_primes = 0\n",
    "    totals = 1\n",
    "    x = 1\n",
    "    while True:\n",
    "        layers += 1\n",
    "        for _ in range(4):\n",
    "            totals += (x*2)\n",
    "            diagonals.append(totals)\n",
    "        for n in diagonals[-4:]:\n",
    "            if is_prime(n):\n",
    "                primes += 1\n",
    "            else:\n",
    "                non_primes += 1\n",
    "        if float(primes) / ((primes +non_primes)+1) < 0.1:\n",
    "            break\n",
    "        x += 1\n",
    "    print 2*x+1, float(primes)/(len(diagonals)+1)\n",
    "\n",
    "sum_diag()"
   ]
  },
  {
   "cell_type": "markdown",
   "metadata": {},
   "source": [
    "#Problem 60\n",
    "The primes 3, 7, 109, and 673, are quite remarkable. By taking any two primes and concatenating them in any order the result will always be prime. For example, taking 7 and 109, both 7109 and 1097 are prime. The sum of these four primes, 792, represents the lowest sum for a set of four primes with this property.\n",
    "\n",
    "Find the lowest sum for a set of five primes for which any two primes concatenate to produce another prime."
   ]
  },
  {
   "cell_type": "code",
   "execution_count": 3,
   "metadata": {
    "collapsed": false
   },
   "outputs": [
    {
     "name": "stdout",
     "output_type": "stream",
     "text": [
      "CHAIN:  [13, 5197, 5701, 6733, 8389]\n",
      "9.22900009155\n",
      "ANSWER:  26033\n"
     ]
    }
   ],
   "source": [
    "import itertools\n",
    "primes = prime_seive(10000)\n",
    "\n",
    "def test_permutations(lst):\n",
    "    for p in itertools.permutations(lst,2):\n",
    "        if not is_prime(int(''.join(str(x) for x in p))):\n",
    "            return False\n",
    "    else:\n",
    "        return True\n",
    "@cache\n",
    "def compute_set(p):\n",
    "    return {prime for prime in primes if test_permutations((prime,p))}\n",
    "\n",
    "iterations = 0\n",
    "target_depth = 5\n",
    "def plumb_chain(chain):\n",
    "    if len(chain) == target_depth:\n",
    "        return chain\n",
    "    intersection = set.intersection(*[compute_set(s) for s in chain])\n",
    "    if len(intersection) == 0:\n",
    "        #deepest we can go\n",
    "        return False\n",
    "    for prime in intersection:\n",
    "        if prime < chain[-1]:\n",
    "            continue\n",
    "        new_chain = plumb_chain(chain + [prime])\n",
    "        if new_chain:\n",
    "            return new_chain\n",
    "s_time = time.time()\n",
    "for p in primes:\n",
    "    chain = plumb_chain([p])\n",
    "    if chain:\n",
    "        print 'CHAIN: ', chain\n",
    "        break\n",
    "print time.time()-s_time\n",
    "print 'ANSWER: ',sum(chain)"
   ]
  },
  {
   "cell_type": "markdown",
   "metadata": {},
   "source": [
    "#Problem 61\n",
    "Triangle, square, pentagonal, hexagonal, heptagonal, and octagonal numbers are all figurate (polygonal) numbers and are generated by the following formulae:\n",
    "\n",
    "Triangle\t \tP3,n=n(n+1)/2\t \t1, 3, 6, 10, 15, ...  \n",
    "Square\t \tP4,n=n2\t \t1, 4, 9, 16, 25, ...  \n",
    "Pentagonal\t \tP5,n=n(3n−1)/2\t \t1, 5, 12, 22, 35, ...  \n",
    "Hexagonal\t \tP6,n=n(2n−1)\t \t1, 6, 15, 28, 45, ...  \n",
    "Heptagonal\t \tP7,n=n(5n−3)/2\t \t1, 7, 18, 34, 55, ...  \n",
    "Octagonal\t \tP8,n=n(3n−2)\t \t1, 8, 21, 40, 65, ...  \n",
    "The ordered set of three 4-digit numbers: 8128, 2882, 8281, has three interesting properties.\n",
    "\n",
    "- The set is cyclic, in that the last two digits of each number is the first two digits of the next number (including the last number with the first).\n",
    "- Each polygonal type: triangle (P3,127=8128), square (P4,91=8281), and pentagonal (P5,44=2882), is represented by a different number in the set.\n",
    "- This is the only set of 4-digit numbers with this property.\n",
    "\n",
    "Find the sum of the only ordered set of six cyclic 4-digit numbers for which each polygonal type: triangle, square, pentagonal, hexagonal, heptagonal, and octagonal, is represented by a different number in the set."
   ]
  },
  {
   "cell_type": "code",
   "execution_count": 3,
   "metadata": {
    "collapsed": false
   },
   "outputs": [
    {
     "name": "stdout",
     "output_type": "stream",
     "text": [
      "SETUP TIME:  0.00200009346008\n",
      "THREAD PULLED ['8256', '5625', '2512', '1281', '8128', '2882']\n",
      "BREAKING\n",
      "0.039999961853\n",
      "28684\n",
      "BOOM!\n",
      "DONE: ['2882', '8256', '5625', '2512', '1281', '8128']\n",
      "0.0019998550415\n",
      "28684\n"
     ]
    }
   ],
   "source": [
    "import itertools\n",
    "from math import factorial\n",
    "\n",
    "setup_time = time.time()\n",
    "geo_func = {\n",
    "    'tri': lambda n: n*(n+1)/2,\n",
    "    'sqr': lambda n: n*n,\n",
    "    'pent': lambda n: n*(3*n-1)/2,\n",
    "    'hex': lambda n: n*(2*n-1),\n",
    "    'hept': lambda n: n*(5*n-3)/2,\n",
    "    'oct': lambda n: n*(3*n-2)\n",
    "}\n",
    "\n",
    "def gen_geometric(operator):\n",
    "    n = 0\n",
    "    hex = []\n",
    "    while True:\n",
    "        n += 1\n",
    "        num = operator(n)\n",
    "        if num < 1000:\n",
    "            continue\n",
    "        if num > 10000:\n",
    "            break\n",
    "        hex.append(num)\n",
    "    return hex\n",
    "series_dict = {}\n",
    "for key, opt in geo_func.items():\n",
    "    series_dict[key] = gen_geometric(opt)\n",
    "series = list(set(itertools.chain.from_iterable(series_dict.values()))) + gen_geometric(geo_func['hex'])\n",
    "series = sorted([x for x in series if str(x)[-2] is not '0'])\n",
    "unique_endings = {str(s)[-2:] for s in series}\n",
    "unique_beginings = {str(s)[:-2] for s in series}\n",
    "requirements = set.intersection(unique_beginings, unique_endings)\n",
    "series = [x for x in series if all([str(x)[:-2] in requirements, str(x)[-2:] in requirements])]\n",
    "\n",
    "for key, numbers in series_dict.items():\n",
    "    series_dict[key] = {str(v) for v in numbers if v in series}\n",
    "print \"SETUP TIME: \", time.time()-setup_time\n",
    "    \n",
    "def follow_chain(chain, order):\n",
    "    if len(chain) == 5:\n",
    "        final = chain[-1][2:] + chain[0][:2]\n",
    "        if final in series_dict[order[0]]:\n",
    "            print \"THREAD PULLED\", chain + [final]\n",
    "            return chain + [final]\n",
    "        return False\n",
    "    else:\n",
    "        next_pair = chain[-1][2:]\n",
    "        for n in series_dict[order[0]]:\n",
    "            if n.startswith(next_pair):\n",
    "                return follow_chain(chain+ [n], order[1:])\n",
    "    return False\n",
    "\n",
    "time_n = time.time()\n",
    "for p in itertools.permutations(series_dict.keys(), 6):\n",
    "    for n in series_dict[p[0]]:\n",
    "        chain = [n]\n",
    "        new_chain = follow_chain(chain, p[1:])\n",
    "        if new_chain:\n",
    "            print \"BREAKING\"\n",
    "            break\n",
    "    if new_chain:\n",
    "        break\n",
    "\n",
    "print time.time()-time_n\n",
    "        \n",
    "@cache\n",
    "def get_matching_numbers(series_key, number):\n",
    "        return {n for n in series_dict[series_key] if n.startswith(number[2:])}\n",
    "\n",
    "def get_chain(series_dict, chain, remaining_series):\n",
    "    if len(chain) == 5:\n",
    "        if (chain[-1][2:] + chain[0][:2]) in series_dict[remaining_series[0]]:\n",
    "            print \"BOOM!\"\n",
    "            chain.append(chain[-1][2:]+chain[0][:2])\n",
    "            return chain\n",
    "        else:\n",
    "            return False\n",
    "    for s in remaining_series:\n",
    "        for n in get_matching_numbers(s, chain[-1]):\n",
    "            new_chain = get_chain(series_dict, chain+[n], [r for r in remaining_series if r != s])\n",
    "            if new_chain:\n",
    "                return new_chain\n",
    "    return False\n",
    "\n",
    "\n",
    "print sum((int(n) for n in new_chain))\n",
    "\n",
    "time_o = time.time()\n",
    "for n in series_dict['pent']:\n",
    "    chain = get_chain(series_dict, [n], [key for key in series_dict if key != 'pent'])\n",
    "    if chain:\n",
    "        print \"DONE:\", chain\n",
    "        break\n",
    "print time.time()-time_o\n",
    "print sum((int(n) for n in chain))\n",
    "#sort back into dict\n",
    "#chain walk through each list?"
   ]
  },
  {
   "cell_type": "markdown",
   "metadata": {
    "collapsed": true
   },
   "source": [
    "DONE: ['3321', '2116', '1681', '8128', '2821', '2133']\n",
    "    "
   ]
  }
 ],
 "metadata": {
  "kernelspec": {
   "display_name": "Python 2",
   "language": "python",
   "name": "python2"
  },
  "language_info": {
   "codemirror_mode": {
    "name": "ipython",
    "version": 2
   },
   "file_extension": ".py",
   "mimetype": "text/x-python",
   "name": "python",
   "nbconvert_exporter": "python",
   "pygments_lexer": "ipython2",
   "version": "2.7.6"
  }
 },
 "nbformat": 4,
 "nbformat_minor": 0
}
