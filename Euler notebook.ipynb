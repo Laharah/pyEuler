{
 "cells": [
  {
   "cell_type": "code",
   "execution_count": 66,
   "metadata": {
    "collapsed": false
   },
   "outputs": [
    {
     "name": "stdout",
     "output_type": "stream",
     "text": [
      "70600674\n"
     ]
    }
   ],
   "source": [
    "class Grid(object):\n",
    "    def __init__(self, grid_blob):\n",
    "        self.columns = None\n",
    "        self.rows = None\n",
    "        self._grid = self.parse_blob(grid_blob)\n",
    "        \n",
    "    def __getitem__(self, key):\n",
    "        return self._grid[key]\n",
    "    \n",
    "    def product(self, values):\n",
    "        total = 1\n",
    "        for value in values:\n",
    "            total *= value\n",
    "        return total\n",
    "    \n",
    "    def get_right(self, point):\n",
    "        x,y = point\n",
    "        if x > self.columns-4:\n",
    "            return 0\n",
    "        return self.product([self._grid[(x1,y)] for x1 in range(x, x+4)])\n",
    "    \n",
    "    def get_down(self, point):\n",
    "        x,y = point\n",
    "        if y > self.rows-4:\n",
    "            return 0\n",
    "        return self.product([self._grid[(x,y1)] for y1 in range(y, y+4)])\n",
    "    \n",
    "    def get_rdiagonal(self, point):\n",
    "        x,y = point\n",
    "        if x > self.columns-4 or y > self.rows-4:\n",
    "            return 0\n",
    "        else:\n",
    "            points = []\n",
    "            for i in range(4):\n",
    "                points.append((x+i, y+i))\n",
    "            return self.product([self._grid[p] for p in points])\n",
    "        \n",
    "    def get_ldiagonal(self, point):\n",
    "        x,y = point\n",
    "        if x < 3 or y > self.rows-4:\n",
    "            return 0\n",
    "        else:\n",
    "            points = []\n",
    "            for i in range(4):\n",
    "                points.append((x-i, y+i))\n",
    "            return self.product([self._grid[p] for p in points])\n",
    "    \n",
    "    def parse_blob(self, blob):\n",
    "        grid_dict = {}\n",
    "        blob = blob.splitlines()\n",
    "        self.rows = len(blob)\n",
    "        self.columns = len(blob[0].split())\n",
    "        for row, line_string in enumerate(blob):\n",
    "            for column, value in enumerate(blob[row].split()):\n",
    "                grid_dict[(row,column)] = int(value)\n",
    "        return grid_dict\n",
    "    \n",
    "grid = Grid(\n",
    "    \"\"\"08 02 22 97 38 15 00 40 00 75 04 05 07 78 52 12 50 77 91 08\n",
    "49 49 99 40 17 81 18 57 60 87 17 40 98 43 69 48 04 56 62 00\n",
    "81 49 31 73 55 79 14 29 93 71 40 67 53 88 30 03 49 13 36 65\n",
    "52 70 95 23 04 60 11 42 69 24 68 56 01 32 56 71 37 02 36 91\n",
    "22 31 16 71 51 67 63 89 41 92 36 54 22 40 40 28 66 33 13 80\n",
    "24 47 32 60 99 03 45 02 44 75 33 53 78 36 84 20 35 17 12 50\n",
    "32 98 81 28 64 23 67 10 26 38 40 67 59 54 70 66 18 38 64 70\n",
    "67 26 20 68 02 62 12 20 95 63 94 39 63 08 40 91 66 49 94 21\n",
    "24 55 58 05 66 73 99 26 97 17 78 78 96 83 14 88 34 89 63 72\n",
    "21 36 23 09 75 00 76 44 20 45 35 14 00 61 33 97 34 31 33 95\n",
    "78 17 53 28 22 75 31 67 15 94 03 80 04 62 16 14 09 53 56 92\n",
    "16 39 05 42 96 35 31 47 55 58 88 24 00 17 54 24 36 29 85 57\n",
    "86 56 00 48 35 71 89 07 05 44 44 37 44 60 21 58 51 54 17 58\n",
    "19 80 81 68 05 94 47 69 28 73 92 13 86 52 17 77 04 89 55 40\n",
    "04 52 08 83 97 35 99 16 07 97 57 32 16 26 26 79 33 27 98 66\n",
    "88 36 68 87 57 62 20 72 03 46 33 67 46 55 12 32 63 93 53 69\n",
    "04 42 16 73 38 25 39 11 24 94 72 18 08 46 29 32 40 62 76 36\n",
    "20 69 36 41 72 30 23 88 34 62 99 69 82 67 59 85 74 04 36 16\n",
    "20 73 35 29 78 31 90 01 74 31 49 71 48 86 81 16 23 57 05 54\n",
    "01 70 54 71 83 51 54 69 16 92 33 48 61 43 52 01 89 19 67 48\"\"\")\n",
    "\n",
    "\n",
    "funcs = [grid.get_ldiagonal, grid.get_rdiagonal, grid.get_right, grid.get_down]\n",
    "maximum = 0\n",
    "for point in grid._grid:\n",
    "    for func in funcs:\n",
    "        product = func(point)\n",
    "        if product > maximum:\n",
    "            maximum = product\n",
    "print maximum"
   ]
  },
  {
   "cell_type": "code",
   "execution_count": null,
   "metadata": {
    "collapsed": true
   },
   "outputs": [],
   "source": [
    "def init_spiral(size):\n",
    "    spiral = {}\n",
    "    for y in xrange(size):\n",
    "        for x in xrange(size):\n",
    "            spiral[(x, y)] = 0\n",
    "    return spiral\n",
    "\n",
    "def load_spiral(s, spiral):\n",
    "    check = {\n",
    "        'up': lambda (x, y): (x, y-1),\n",
    "        'down': lambda (x, y): (x, y+1),\n",
    "        'left': lambda (x, y): (x-1, y),\n",
    "        'right': lambda (x, y): (x+1, y)\n",
    "        }\n",
    "    directions = ['right', 'down', 'left', 'up']\n",
    "    current_point = (s/2, s/2)\n",
    "    i = 1\n",
    "    c_dir_index = 3\n",
    "    n_dir_index = 0\n",
    "    while i < s**2:\n",
    "        spiral[current_point] = i\n",
    "        current_direction = directions[c_dir_index]\n",
    "        next_direction = directions[n_dir_index]\n",
    "        #try:\n",
    "        desired_point = check[next_direction](current_point)\n",
    "        #except IndexError:\n",
    "        #    desired_point = [s/2, s/2]\n",
    "        \n",
    "        if spiral[desired_point] == 0:\n",
    "            current_point = desired_point\n",
    "            c_dir_index = n_dir_index\n",
    "            n_dir_index += 1\n",
    "            if n_dir_index == 4:\n",
    "                n_dir_index = 0\n",
    "        \n",
    "        else:\n",
    "            current_point = check[current_direction](current_point)\n",
    "        \n",
    "        i += 1\n",
    "    \n",
    "    spiral[current_point] = i\n",
    "    \n",
    "    return spiral\n",
    "\n",
    "def print_spiral(s, spiral):\n",
    "    for y in xrange(s):\n",
    "        nums = [spiral[(x, y)] for x in xrange(s)]\n",
    "        nums = ['{:2d}'.format(num) for num in nums]\n",
    "        print ' '.join(nums)\n",
    "\n",
    "def sum_diagonals(s, spiral):\n",
    "    total = x = y = 0\n",
    "    for _ in xrange(s):\n",
    "        total += spiral[(x,y)]\n",
    "        x += 1\n",
    "        y += 1\n",
    "    \n",
    "    x = s-1\n",
    "    y = 0\n",
    "    for _ in xrange(s):\n",
    "        total += spiral[(x, y)]\n",
    "        x -= 1\n",
    "        y += 1\n",
    "    # center value would be counted twice, it is always 1\n",
    "    return total - 1\n",
    "        \n",
    "s = 9\n",
    "spiral = init_spiral(s)\n",
    "spiral = load_spiral(s, spiral)\n",
    "\n",
    "print_spiral(s, spiral)\n",
    "print sum_diagonals(s, spiral)\n",
    "\n",
    "            \n",
    "        "
   ]
  },
  {
   "cell_type": "code",
   "execution_count": null,
   "metadata": {
    "collapsed": true
   },
   "outputs": [],
   "source": [
    "def sum_diag(s):\n",
    "    diagonals = [1]\n",
    "    totals = 1\n",
    "    for x in range(1, (s/2)+1):\n",
    "        for _ in range(4):\n",
    "            totals += (x*2)\n",
    "            diagonals.append(totals)\n",
    "    print sum(diagonals)\n",
    "\n",
    "sum_diag(9)"
   ]
  },
  {
   "cell_type": "raw",
   "metadata": {},
   "source": []
  },
  {
   "cell_type": "code",
   "execution_count": null,
   "metadata": {
    "collapsed": true
   },
   "outputs": [],
   "source": [
    "powers = set()\n",
    "for a in range(2, 101):\n",
    "    for b in range(2, 101):\n",
    "        powers.add(a**b)\n",
    "print len(powers)"
   ]
  },
  {
   "cell_type": "raw",
   "metadata": {},
   "source": []
  },
  {
   "cell_type": "code",
   "execution_count": 1,
   "metadata": {
    "collapsed": false
   },
   "outputs": [
    {
     "name": "stdout",
     "output_type": "stream",
     "text": [
      "[23, 37, 53, 73, 313, 317, 373, 797, 3137, 3797, 739397]\n",
      "748317\n"
     ]
    }
   ],
   "source": [
    "import math\n",
    "\n",
    "def cache(func):\n",
    "    saved = {}\n",
    "    def wraper(*args):\n",
    "        if (func, args) in saved:\n",
    "            return saved[func, args]\n",
    "        result = func(*args)\n",
    "        saved[func, args] = result\n",
    "        return result\n",
    "    return wraper\n",
    "\n",
    "@cache\n",
    "def is_prime(n):\n",
    "    if n <= 1:\n",
    "        return False\n",
    "    if n == 2 or n == 3:\n",
    "        return True\n",
    "    if n%2 == 0:\n",
    "        return False\n",
    "    max_div = int(math.sqrt(n))\n",
    "    \n",
    "    for x in xrange(3, max_div+2, 2):\n",
    "        if n%x == 0:\n",
    "            return False\n",
    "    else:\n",
    "        return True\n",
    "\n",
    "@cache   \n",
    "def is_trunc(n, dir=None):\n",
    "    str_n = str(n)\n",
    "    if len(str_n) == 1:\n",
    "        if is_prime(n):\n",
    "            return True\n",
    "        else:\n",
    "            return False\n",
    "    if is_prime(n):\n",
    "        if dir == 'l':\n",
    "            return is_trunc(int(str_n[1:]), 'l')\n",
    "        if dir == 'r':\n",
    "            return is_trunc(int(str_n[:-1]), 'r')\n",
    "        else:\n",
    "            return all([is_trunc(int(str_n[:-1]), 'r'), is_trunc(int(str_n[1:]), 'l')])\n",
    "    else:\n",
    "        return False\n",
    "\n",
    "    \n",
    "truncs = []\n",
    "i = 11\n",
    "while len(truncs) < 11:\n",
    "    if is_prime(i):\n",
    "        if is_trunc(i):\n",
    "            truncs.append(i)\n",
    "    i += 2\n",
    "\n",
    "print truncs\n",
    "print sum(truncs)\n"
   ]
  },
  {
   "cell_type": "code",
   "execution_count": null,
   "metadata": {
    "collapsed": true
   },
   "outputs": [],
   "source": [
    "def is_pandigital(n):\n",
    "    if len(n) > 9 or '0' in n:\n",
    "        return False\n",
    "    for i in range(1, 10):\n",
    "        if str(i) not in n:\n",
    "            return False\n",
    "    return True\n",
    "    \n",
    "pandigitals = []\n",
    "for i in xrange(1, 10000):\n",
    "    failure = False\n",
    "    satisfied = []\n",
    "    products = []\n",
    "    for x in range(1, 10):\n",
    "        prod = i*x\n",
    "        products.append(str(prod))\n",
    "        exploded = str(prod).split()\n",
    "        for c in exploded:\n",
    "            if c in satisfied or len(satisfied) > 9 or c == 0:\n",
    "                failure = True\n",
    "            else:\n",
    "                satisfied.append(c)\n",
    "        if failure:\n",
    "            break\n",
    "        if is_pandigital(''.join(products)):\n",
    "            pandigitals.append(int(''.join(products)))\n",
    "            break\n",
    "\n",
    "print pandigitals\n",
    "p = [1,2,3,4]\n",
    "print max(p)\n",
    "print max(pandigitals)\n",
    "        "
   ]
  },
  {
   "cell_type": "raw",
   "metadata": {},
   "source": []
  },
  {
   "cell_type": "code",
   "execution_count": null,
   "metadata": {
    "collapsed": true
   },
   "outputs": [],
   "source": [
    "def sum_fifth(n):\n",
    "    return sum(int(x)**5 for x in str(n))\n",
    "total = 0\n",
    "for x in xrange(10, 1000000):\n",
    "    if sum_fifth(x) == x:\n",
    "        print x\n",
    "        total += x\n",
    "print \"total = {}\".format(total)"
   ]
  },
  {
   "cell_type": "markdown",
   "metadata": {},
   "source": [
    "#Problem 31\n",
    "In England the currency is made up of pound, £, and pence, p, and there are eight coins in general circulation:\n",
    "\n",
    "1p, 2p, 5p, 10p, 20p, 50p, £1 (100p) and £2 (200p).\n",
    "It is possible to make £2 in the following way:\n",
    "\n",
    "1×£1 + 1×50p + 2×20p + 1×5p + 1×2p + 3×1p\n",
    "How many different ways can £2 be made using any number of coins?"
   ]
  },
  {
   "cell_type": "code",
   "execution_count": null,
   "metadata": {
    "collapsed": true
   },
   "outputs": [],
   "source": [
    "target = 200\n",
    "coins = [1,2,5,10,20,50,100,200]\n",
    "ways = [1]+ [0]*target\n",
    "for coin in coins:\n",
    "    for i in xrange(coin, target+1):\n",
    "        ways[i] += ways[i-coin]\n",
    "print ways[target]\n",
    "    "
   ]
  },
  {
   "cell_type": "markdown",
   "metadata": {},
   "source": [
    "#Problem 27\n",
    "Euler discovered the remarkable quadratic formula:\n",
    "\n",
    "n² + n + 41\n",
    "\n",
    "It turns out that the formula will produce 40 primes for the consecutive values n = 0 to 39. However, when n = 40, 402 + 40 + 41 = 40(40 + 1) + 41 is divisible by 41, and certainly when n = 41, 41² + 41 + 41 is clearly divisible by 41.\n",
    "\n",
    "The incredible formula  n² − 79n + 1601 was discovered, which produces 80 primes for the consecutive values n = 0 to 79. The product of the coefficients, −79 and 1601, is −126479.\n",
    "\n",
    "Considering quadratics of the form:\n",
    "\n",
    "n² + an + b, where |a| < 1000 and |b| < 1000\n",
    "\n",
    "where |n| is the modulus/absolute value of n\n",
    "e.g. |11| = 11 and |−4| = 4\n",
    "Find the product of the coefficients, a and b, for the quadratic expression that produces the maximum number of primes for consecutive values of n, starting with n = 0."
   ]
  },
  {
   "cell_type": "code",
   "execution_count": null,
   "metadata": {
    "collapsed": true
   },
   "outputs": [],
   "source": [
    "def get_consecutive_primes(a,b):\n",
    "    n = 0\n",
    "    while is_prime((n**2) + (a*n) + b):\n",
    "        n += 1\n",
    "    return n\n",
    "most_consecutive_primes = 0\n",
    "for a in xrange(-1000, 1001):\n",
    "    for b in [x for x in xrange(0, 1001) if is_prime(x)]:\n",
    "        consecutive_primes = get_consecutive_primes(a,b)\n",
    "        if consecutive_primes > most_consecutive_primes:\n",
    "            most_consecutive_primes = consecutive_primes\n",
    "            most_consecutive_primes_pair = (a,b)\n",
    "\n",
    "print most_consecutive_primes\n",
    "print most_consecutive_primes_pair\n",
    "print most_consecutive_primes_pair[0] * most_consecutive_primes_pair[1]"
   ]
  },
  {
   "cell_type": "markdown",
   "metadata": {},
   "source": [
    "#Problem 39\n",
    "If p is the perimeter of a right angle triangle with integral length sides, {a,b,c}, there are exactly three solutions for p = 120.\n",
    "\n",
    "{20,48,52}, {24,45,51}, {30,40,50}\n",
    "\n",
    "For which value of p ≤ 1000, is the number of solutions maximised?"
   ]
  },
  {
   "cell_type": "code",
   "execution_count": null,
   "metadata": {
    "collapsed": true
   },
   "outputs": [],
   "source": [
    "def get_perimiter(a,b):\n",
    "    \"\"\"given a right triangle with sides a,b return the perimiter. raises exception if c is not integer\"\"\"\n",
    "    c = math.sqrt((a**2) + (b**2))\n",
    "    if c%1 != 0:\n",
    "        raise ValueError\n",
    "    else:\n",
    "        return int(a+b+c)\n",
    "    \n",
    "ab_values = {}\n",
    "perimiters = [0]*1001\n",
    "for a in xrange(1, 292):\n",
    "    for b in xrange(1, 500):\n",
    "        is_valid = False\n",
    "        try:\n",
    "            perimiter = get_perimiter(a,b)\n",
    "        except ValueError:\n",
    "            continue\n",
    "        if perimiter <= 1000:\n",
    "            if perimiter not in ab_values:\n",
    "                ab_values[perimiter] = []\n",
    "            if (b,a) in ab_values[perimiter]:\n",
    "                continue\n",
    "            perimiters[perimiter] += 1\n",
    "            ab_values[perimiter].append((a,b))\n",
    "print perimiters.index(max(perimiters))\n",
    "print ab_values[perimiters.index(max(perimiters))]"
   ]
  },
  {
   "cell_type": "markdown",
   "metadata": {},
   "source": [
    "#Problem 42\n",
    "The nth term of the sequence of triangle numbers is given by, tn = ½n(n+1); so the first ten triangle numbers are:\n",
    "\n",
    "1, 3, 6, 10, 15, 21, 28, 36, 45, 55, ...\n",
    "\n",
    "By converting each letter in a word to a number corresponding to its alphabetical position and adding these values we form a word value. For example, the word value for SKY is 19 + 11 + 25 = 55 = t10. If the word value is a triangle number then we shall call the word a triangle word.\n",
    "\n",
    "Using words.txt (right click and 'Save Link/Target As...'), a 16K text file containing nearly two-thousand common English words, how many are triangle words?"
   ]
  },
  {
   "cell_type": "code",
   "execution_count": null,
   "metadata": {
    "collapsed": true
   },
   "outputs": [],
   "source": [
    "def word_value(word):\n",
    "    total = 0\n",
    "    for c in word:\n",
    "        total += ord(c)-96\n",
    "    return total\n",
    "\n",
    "def generate_triangle_set(highest):\n",
    "    highest_n = int((math.sqrt(8*highest+1)-1)/2)\n",
    "    triangle_nums = set()\n",
    "    for n in xrange(1, highest_n):\n",
    "        triangle_nums.add((n*(n+1))/2)\n",
    "    return triangle_nums\n",
    "\n",
    "\n",
    "with open('p042_words.txt', 'r') as f:\n",
    "    data = f.read()\n",
    "data = [w.strip('\"').lower() for w in data.split(',')]\n",
    "total = 0\n",
    "triangle_set = generate_triangle_set(len(max(data, key=len))*26)\n",
    "for word in data:\n",
    "    if word_value(word) in triangle_set:\n",
    "        total +=1\n",
    "print total"
   ]
  },
  {
   "cell_type": "markdown",
   "metadata": {},
   "source": [
    "#Problem 44\n",
    "Pentagonal numbers are generated by the formula, Pn=n(3n−1)/2. The first ten pentagonal numbers are:\n",
    "\n",
    "1, 5, 12, 22, 35, 51, 70, 92, 117, 145, ...\n",
    "\n",
    "It can be seen that P4 + P7 = 22 + 70 = 92 = P8. However, their difference, 70 − 22 = 48, is not pentagonal.\n",
    "\n",
    "Find the pair of pentagonal numbers, Pj and Pk, for which their sum and difference are pentagonal and D = |Pk − Pj| is minimised; what is the value of D?"
   ]
  },
  {
   "cell_type": "code",
   "execution_count": 147,
   "metadata": {
    "collapsed": false
   },
   "outputs": [
    {
     "name": "stdout",
     "output_type": "stream",
     "text": [
      "1560090 1019 7042750 2166\n",
      "7042750 2166 1560090 1019\n",
      "5482660\n"
     ]
    }
   ],
   "source": [
    "def generate_pentagonals(n):\n",
    "    pentagon_nums = []\n",
    "    for n in xrange(1, n+1):\n",
    "        pentagon_nums.append((n*(3*n-1))/2)\n",
    "    return pentagon_nums\n",
    "\n",
    "pentagons = generate_pentagonals(10000)\n",
    "set_of_pentagons = set(pentagons)\n",
    "\n",
    "canidate_differences = []\n",
    "\n",
    "for a in pentagons:\n",
    "    for b in pentagons:\n",
    "        if a + b in set_of_pentagons:\n",
    "            if abs(a-b) in set_of_pentagons:\n",
    "                print a, pentagons.index(a), b, pentagons.index(b)\n",
    "                canidate_differences.append(abs(a-b))\n",
    "print min(canidate_differences)"
   ]
  },
  {
   "cell_type": "markdown",
   "metadata": {},
   "source": [
    "#Problem 45\n",
    "Triangle, pentagonal, and hexagonal numbers are generated by the following formulae:\n",
    "\n",
    "Triangle\t \tTn=n(n+1)/2\t \t1, 3, 6, 10, 15, ...  \n",
    "Pentagonal\t \tPn=n(3n−1)/2\t \t1, 5, 12, 22, 35, ...  \n",
    "Hexagonal\t \tHn=n(2n−1)\t \t1, 6, 15, 28, 45, ...  \n",
    "\n",
    "It can be verified that T285 = P165 = H143 = 40755.\n",
    "\n",
    "Find the next triangle number that is also pentagonal and hexagonal."
   ]
  },
  {
   "cell_type": "code",
   "execution_count": 148,
   "metadata": {
    "collapsed": false
   },
   "outputs": [
    {
     "name": "stdout",
     "output_type": "stream",
     "text": [
      "1533776805\n",
      "cycles: 27693\n"
     ]
    }
   ],
   "source": [
    "\"\"\"All hexagon numbers are also triangle numbers\"\"\"\n",
    "\n",
    "def hex_generator():\n",
    "    n = 0\n",
    "    while True:\n",
    "        n += 1\n",
    "        yield n*(2*n-1)\n",
    "\n",
    "def is_pentagon(p):\n",
    "    if ((math.sqrt(24*p+1)+1)/6) % 1 == 0:\n",
    "        return True\n",
    "    return False\n",
    "\n",
    "cycles = 0\n",
    "for i in hex_generator():\n",
    "    cycles += 1\n",
    "    if is_pentagon(i) and i > 40755:\n",
    "        print i\n",
    "        print \"cycles: {}\".format(cycles)\n",
    "        break"
   ]
  },
  {
   "cell_type": "markdown",
   "metadata": {},
   "source": [
    "#Problem 46\n",
    "It was proposed by Christian Goldbach that every odd composite number can be written as the sum of a prime and twice a square.\n",
    "\n",
    "9 = 7 + 2×1<sup>2</sup>  \n",
    "15 = 7 + 2×2<sup>2</sup>  \n",
    "21 = 3 + 2×3<sup>2</sup>  \n",
    "25 = 7 + 2×3<sup>2</sup>  \n",
    "27 = 19 + 2×2<sup>2</sup>  \n",
    "33 = 31 + 2×1<sup>2</sup> \n",
    "\n",
    "It turns out that the conjecture was false.\n",
    "\n",
    "What is the smallest odd composite that cannot be written as the sum of a prime and twice a square?"
   ]
  },
  {
   "cell_type": "code",
   "execution_count": 157,
   "metadata": {
    "collapsed": false
   },
   "outputs": [
    {
     "name": "stdout",
     "output_type": "stream",
     "text": [
      "5777\n"
     ]
    }
   ],
   "source": [
    "def odd_composite_generator():\n",
    "    n = 9\n",
    "    while True:\n",
    "        if not is_prime(n):\n",
    "            yield n\n",
    "        n += 2\n",
    "\n",
    "\n",
    "def satisfies(n):\n",
    "    for s in xrange(1,int(math.sqrt((n-2)/2))+1):\n",
    "        diff = n-(2*(s**2))\n",
    "        if is_prime(diff):\n",
    "            #print \"{} = {} + 2x{}^2\".format(n, diff, s)\n",
    "            return True\n",
    "    return False\n",
    "\n",
    "\n",
    "for n in odd_composite_generator():\n",
    "    if not satisfies(n):\n",
    "        print n\n",
    "        break"
   ]
  },
  {
   "cell_type": "markdown",
   "metadata": {},
   "source": [
    "#Problem 47\n",
    "The first two consecutive numbers to have two distinct prime factors are:\n",
    "\n",
    "14 = 2 × 7  \n",
    "15 = 3 × 5  \n",
    "\n",
    "The first three consecutive numbers to have three distinct prime factors are:\n",
    "\n",
    "644 = 2² × 7 × 23  \n",
    "645 = 3 × 5 × 43  \n",
    "646 = 2 × 17 × 19  \n",
    "\n",
    "Find the first four consecutive integers to have four distinct prime factors. What is the first of these numbers?"
   ]
  },
  {
   "cell_type": "code",
   "execution_count": 59,
   "metadata": {
    "collapsed": false
   },
   "outputs": [
    {
     "name": "stdout",
     "output_type": "stream",
     "text": [
      "134043\n"
     ]
    }
   ],
   "source": [
    "def prime_seive(s):\n",
    "    seive = [1]*(s+1)\n",
    "    seive[0] = seive[1] = 0\n",
    "    current_prime = 2\n",
    "    i = current_prime\n",
    "    while current_prime < s:\n",
    "        while i < s:\n",
    "            i += current_prime\n",
    "            try:\n",
    "                seive[i] = 0\n",
    "            except IndexError:\n",
    "                pass\n",
    "        current_prime += 1\n",
    "        try:\n",
    "            while seive[current_prime] == 0:\n",
    "                current_prime += 1\n",
    "        except IndexError:\n",
    "            break\n",
    "        i = current_prime\n",
    "    primes = []\n",
    "    for i in xrange(len(seive)):\n",
    "        if seive[i] == 1:\n",
    "            primes.append(i)\n",
    "    return primes\n",
    "\n",
    "def get_prime_factors(n, primes=None):\n",
    "    if n < 2:\n",
    "        return []\n",
    "    prime_factors = []\n",
    "    if not primes:\n",
    "        primes = prime_seive(n/2)\n",
    "    for prime in primes:\n",
    "        if n%prime == 0:\n",
    "            prime_factors.append(prime)\n",
    "        if prime > n/2:\n",
    "            break\n",
    "    return prime_factors\n",
    "\n",
    "\n",
    "\n",
    "Limit=1000000     # Search under 1 million for now\n",
    "factors=[0]*Limit # number of prime factors.\n",
    "count=0\n",
    "for i in xrange(2,Limit):\n",
    "    if factors[i]==0:\n",
    "        # i is prime\n",
    "        count =0\n",
    "        val =i\n",
    "        while val < Limit:\n",
    "            factors[val] += 1\n",
    "            val+=i\n",
    "    elif factors[i] == 4:\n",
    "        count +=1\n",
    "        if count == 4:\n",
    "            print i-3 # First number\n",
    "            break\n",
    "    else:\n",
    "        count = 0"
   ]
  },
  {
   "cell_type": "markdown",
   "metadata": {},
   "source": [
    "#Problem 48\n",
    "The series, 11 + 22 + 33 + ... + 1010 = 10405071317.\n",
    "\n",
    "Find the last ten digits of the series, 11 + 22 + 33 + ... + 10001000."
   ]
  },
  {
   "cell_type": "code",
   "execution_count": 68,
   "metadata": {
    "collapsed": false
   },
   "outputs": [
    {
     "name": "stdout",
     "output_type": "stream",
     "text": [
      "9110846700\n",
      "9110846700\n"
     ]
    }
   ],
   "source": [
    "print str(sum((n**n for n in xrange(1, 1001))))[-10:]\n",
    "\n",
    "#expanded for clairity\n",
    "total = 0\n",
    "for n in xrange(1, 1001):\n",
    "    total += n**n\n",
    "print str(total)[-10:]"
   ]
  },
  {
   "cell_type": "markdown",
   "metadata": {},
   "source": [
    "#Problem 49\n",
    "The arithmetic sequence, 1487, 4817, 8147, in which each of the terms increases by 3330, is unusual in two ways: (i) each of the three terms are prime, and, (ii) each of the 4-digit numbers are permutations of one another.\n",
    "\n",
    "There are no arithmetic sequences made up of three 1-, 2-, or 3-digit primes, exhibiting this property, but there is one other 4-digit increasing sequence.\n",
    "\n",
    "What 12-digit number do you form by concatenating the three terms in this sequence?"
   ]
  },
  {
   "cell_type": "code",
   "execution_count": 76,
   "metadata": {
    "collapsed": false
   },
   "outputs": [
    {
     "name": "stdout",
     "output_type": "stream",
     "text": [
      "148748178147\n",
      "296962999629\n"
     ]
    }
   ],
   "source": [
    "primes = []\n",
    "for i in xrange(1000, 10000):\n",
    "    if is_prime(i):\n",
    "        primes.append(i)\n",
    "\n",
    "canidates = []\n",
    "for prime in primes:\n",
    "    if all([\n",
    "            prime + 3330 in primes,\n",
    "            prime + (2*3330) in primes\n",
    "                ]):\n",
    "            canidates.append([prime, prime+3330, prime+(2*3330)])\n",
    "\n",
    "for triplet in canidates:\n",
    "    a, b, c = [str(x) for x in triplet]\n",
    "    if sorted(a) == sorted(b) == sorted(c):\n",
    "        print ''.join([a,b,c])\n",
    "    "
   ]
  },
  {
   "cell_type": "markdown",
   "metadata": {},
   "source": [
    "#Problem 50\n",
    "The prime 41, can be written as the sum of six consecutive primes:\n",
    "\n",
    "41 = 2 + 3 + 5 + 7 + 11 + 13\n",
    "This is the longest sum of consecutive primes that adds to a prime below one-hundred.\n",
    "\n",
    "The longest sum of consecutive primes below one-thousand that adds to a prime, contains 21 terms, and is equal to 953.\n",
    "\n",
    "Which prime, below one-million, can be written as the sum of the most consecutive primes?"
   ]
  },
  {
   "cell_type": "code",
   "execution_count": 105,
   "metadata": {
    "collapsed": false
   },
   "outputs": [
    {
     "name": "stdout",
     "output_type": "stream",
     "text": [
      "997651 543\n",
      "0.96851682663\n"
     ]
    }
   ],
   "source": [
    "import time\n",
    "t_start = time.time()\n",
    "\n",
    "primes = prime_seive(1000000)\n",
    "set_primes = set(primes)\n",
    "#make a set of primes too, for fast lookup later\n",
    "\n",
    "max_sled_length = 0\n",
    "total = 0\n",
    "while total < primes[-1]:\n",
    "    total += primes[max_sled_length]\n",
    "    max_sled_length += 1\n",
    "\n",
    "sled_length = max_sled_length\n",
    "highest_value = 0\n",
    "while highest_value == 0:\n",
    "    index = 0\n",
    "    while index < len(primes)-sled_length:\n",
    "        value = sum((primes[i] for i in xrange(index, index +sled_length)))\n",
    "        if value > primes[-1]:\n",
    "            break\n",
    "        if value in set_primes:\n",
    "            highest_sled_length = sled_length\n",
    "            highest_value = value\n",
    "        index += 1\n",
    "    sled_length -= 1\n",
    "runtime = time.time()-t_start\n",
    "print highest_value, highest_sled_length\n",
    "print runtime"
   ]
  }
 ],
 "metadata": {
  "kernelspec": {
   "display_name": "Python 2",
   "language": "python",
   "name": "python2"
  },
  "language_info": {
   "codemirror_mode": {
    "name": "ipython",
    "version": 2
   },
   "file_extension": ".py",
   "mimetype": "text/x-python",
   "name": "python",
   "nbconvert_exporter": "python",
   "pygments_lexer": "ipython2",
   "version": "2.7.9"
  }
 },
 "nbformat": 4,
 "nbformat_minor": 0
}
